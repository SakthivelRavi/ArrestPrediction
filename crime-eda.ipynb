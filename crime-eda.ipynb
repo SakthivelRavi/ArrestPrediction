{
 "cells": [
  {
   "cell_type": "code",
   "execution_count": 6,
   "metadata": {
    "collapsed": false
   },
   "outputs": [
    {
     "data": {
      "text/plain": [
       "Plots.GRBackend()"
      ]
     },
     "execution_count": 6,
     "metadata": {},
     "output_type": "execute_result"
    }
   ],
   "source": [
    "using StatPlots\n",
    "using DataFrames\n",
    "gr(size=(400,300))"
   ]
  },
  {
   "cell_type": "code",
   "execution_count": 2,
   "metadata": {
    "collapsed": false
   },
   "outputs": [
    {
     "data": {
      "text/plain": [
       "(6453846, 22)"
      ]
     },
     "execution_count": 2,
     "metadata": {},
     "output_type": "execute_result"
    }
   ],
   "source": [
    "crime = readtable(\"data.csv\");\n",
    "size(crime)\n",
    "# describe(crime)"
   ]
  },
  {
   "cell_type": "code",
   "execution_count": 3,
   "metadata": {
    "collapsed": false
   },
   "outputs": [
    {
     "data": {
      "text/plain": [
       "listall (generic function with 1 method)"
      ]
     },
     "execution_count": 3,
     "metadata": {},
     "output_type": "execute_result"
    }
   ],
   "source": [
    "# Helper function to list elements in an array, each on own line\n",
    "function listall(a)\n",
    "    for item in a\n",
    "        println(item)\n",
    "    end\n",
    "end"
   ]
  },
  {
   "cell_type": "code",
   "execution_count": null,
   "metadata": {
    "collapsed": false
   },
   "outputs": [],
   "source": [
    "# primary_types = sort(collect(Set(crime[:Primary_Type])))\n",
    "# listall(primary_types)\n",
    "@df crime scatter(:X_Coordinate, :Y_Coordinate)"
   ]
  },
  {
   "cell_type": "code",
   "execution_count": null,
   "metadata": {
    "collapsed": false
   },
   "outputs": [],
   "source": [
    "locations = sort(collect(Set(dropna((crime[:Location_Description])))))\n",
    "# locations = dropna((crime[:Location_Description]))\n",
    "# describe(locations)\n",
    "# listall(locations)\n",
    "# Gadfly.plot(crime, x=:Location_Description, Geom.histogram)"
   ]
  },
  {
   "cell_type": "code",
   "execution_count": null,
   "metadata": {
    "collapsed": false
   },
   "outputs": [],
   "source": [
    "districts = sort(collect(Set(dropna((crime[:District])))))\n",
    "# listall(districts)\n",
    "Gadfly.plot(crime, x=:District, Geom.histogram)"
   ]
  },
  {
   "cell_type": "code",
   "execution_count": null,
   "metadata": {
    "collapsed": false
   },
   "outputs": [],
   "source": [
    "community_areas = sort(collect(Set(dropna((crime[:Community_Area])))))\n",
    "# listall(community_areas)\n",
    "Gadfly.plot(crime, x=:Community_Area, Geom.histogram)"
   ]
  },
  {
   "cell_type": "code",
   "execution_count": null,
   "metadata": {
    "collapsed": false
   },
   "outputs": [],
   "source": [
    "years = sort(collect(Set((crime[:Year]))))\n",
    "# listall(years)\n",
    "Gadfly.plot(crime, x=:Year, color=:Arrest, Geom.histogram)"
   ]
  },
  {
   "cell_type": "code",
   "execution_count": null,
   "metadata": {
    "collapsed": true
   },
   "outputs": [],
   "source": [
    "crime_removed_types = crime[\n",
    "    (crime[:Primary_Type] .!= \"GAMBLING\") .& \n",
    "    (crime[:Primary_Type] .!= \"LIQUOR_LAW_VIOLATION\") .& \n",
    "    (crime[:Primary_Type] .!= \"PROSTITUTION\") .&\n",
    "    (crime[:Primary_Type] .!= \"NARCOTICS\") .&\n",
    "    (crime[:Primary_Type] .!= \"PUBLIC_INDECENCY\"), :];"
   ]
  },
  {
   "cell_type": "code",
   "execution_count": null,
   "metadata": {
    "collapsed": false
   },
   "outputs": [],
   "source": [
    "size(crime_removed_types)"
   ]
  },
  {
   "cell_type": "code",
   "execution_count": null,
   "metadata": {
    "collapsed": true
   },
   "outputs": [],
   "source": [
    "# remove undesirable features\n",
    "delete!(crime_removed_types, [:Block, :Beat, :Ward, :FBI_Code, :Updated_On, :Location]);"
   ]
  },
  {
   "cell_type": "code",
   "execution_count": null,
   "metadata": {
    "collapsed": true
   },
   "outputs": [],
   "source": [
    "months = [\"January\", \"February\", \"March\", \"April\", \"May\", \"June\", \n",
    "    \"July\", \"August\", \"September\", \"October\", \"November\", \"December\"]\n",
    "days = [\"Monday\", \"Tuesday\", \"Wednesday\", \"Thursday\", \"Friday\", \"Saturday\", \"Sunday\"];"
   ]
  }
 ],
 "metadata": {
  "kernelspec": {
   "display_name": "Julia 0.6.0",
   "language": "julia",
   "name": "julia-0.6"
  },
  "language_info": {
   "file_extension": ".jl",
   "mimetype": "application/julia",
   "name": "julia",
   "version": "0.6.0"
  }
 },
 "nbformat": 4,
 "nbformat_minor": 2
}
