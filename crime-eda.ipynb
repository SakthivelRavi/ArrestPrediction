{
 "cells": [
  {
   "cell_type": "code",
   "execution_count": 1,
   "metadata": {},
   "outputs": [
    {
     "name": "stderr",
     "output_type": "stream",
     "text": [
      "\u001b[1m\u001b[33mWARNING: \u001b[39m\u001b[22m\u001b[33mCouldn't initialize gr.  (might need to install it?)\u001b[39m"
     ]
    },
    {
     "name": "stdout",
     "output_type": "stream",
     "text": [
      "Pkg.add(\"GR\")\n",
      "Pkg.build(\"GR\")\n",
      "\n",
      "\n"
     ]
    },
    {
     "name": "stderr",
     "output_type": "stream",
     "text": [
      "\n",
      "\u001b[1m\u001b[36mINFO: \u001b[39m\u001b[22m\u001b[36mTo do a standard install of gr, copy and run this:\n",
      "\n",
      "\u001b[39m"
     ]
    },
    {
     "ename": "LoadError",
     "evalue": "\u001b[91mArgumentError: Module GR not found in current path.\nRun `Pkg.add(\"GR\")` to install the GR package.\u001b[39m",
     "output_type": "error",
     "traceback": [
      "\u001b[91mArgumentError: Module GR not found in current path.\nRun `Pkg.add(\"GR\")` to install the GR package.\u001b[39m",
      ""
     ]
    }
   ],
   "source": [
    "using StatPlots\n",
    "using DataFrames\n",
    "gr(size=(400,300))"
   ]
  },
  {
   "cell_type": "code",
   "execution_count": 2,
   "metadata": {},
   "outputs": [
    {
     "data": {
      "text/plain": [
       "(6453846, 22)"
      ]
     },
     "execution_count": 2,
     "metadata": {},
     "output_type": "execute_result"
    }
   ],
   "source": [
    "crime = readtable(\"data.csv\");\n",
    "size(crime)\n",
    "# describe(crime)"
   ]
  },
  {
   "cell_type": "code",
   "execution_count": 3,
   "metadata": {},
   "outputs": [
    {
     "data": {
      "text/plain": [
       "listall (generic function with 1 method)"
      ]
     },
     "execution_count": 3,
     "metadata": {},
     "output_type": "execute_result"
    }
   ],
   "source": [
    "# Helper function to list elements in an array, each on own line\n",
    "function listall(a)\n",
    "    for item in a\n",
    "        println(item)\n",
    "    end\n",
    "end"
   ]
  },
  {
   "cell_type": "code",
   "execution_count": 4,
   "metadata": {},
   "outputs": [
    {
     "name": "stderr",
     "output_type": "stream",
     "text": [
      "\u001b[1m\u001b[33mWARNING: \u001b[39m\u001b[22m\u001b[33mCouldn't initialize gr.  (might need to install it?)\u001b[39m\n",
      "\u001b[1m\u001b[36mINFO: \u001b[39m\u001b[22m"
     ]
    },
    {
     "name": "stdout",
     "output_type": "stream",
     "text": [
      "Pkg.add(\"GR\")\n",
      "Pkg.build(\"GR\")\n",
      "\n",
      "\n"
     ]
    },
    {
     "name": "stderr",
     "output_type": "stream",
     "text": [
      "\u001b[36mTo do a standard install of gr, copy and run this:\n",
      "\n",
      "\u001b[39m"
     ]
    },
    {
     "ename": "LoadError",
     "evalue": "\u001b[91mArgumentError: Module GR not found in current path.\nRun `Pkg.add(\"GR\")` to install the GR package.\u001b[39m",
     "output_type": "error",
     "traceback": [
      "\u001b[91mArgumentError: Module GR not found in current path.\nRun `Pkg.add(\"GR\")` to install the GR package.\u001b[39m",
      ""
     ]
    }
   ],
   "source": [
    "# primary_types = sort(collect(Set(crime[:Primary_Type])))\n",
    "# listall(primary_types)\n",
    "@df crime scatter(:X_Coordinate, :Y_Coordinate)"
   ]
  },
  {
   "cell_type": "code",
   "execution_count": 5,
   "metadata": {},
   "outputs": [
    {
     "data": {
      "text/plain": [
       "173-element Array{String,1}:\n",
       " \"ABANDONED BUILDING\"                             \n",
       " \"AIRCRAFT\"                                       \n",
       " \"AIRPORT BUILDING NON-TERMINAL - NON-SECURE AREA\"\n",
       " \"AIRPORT BUILDING NON-TERMINAL - SECURE AREA\"    \n",
       " \"AIRPORT EXTERIOR - NON-SECURE AREA\"             \n",
       " \"AIRPORT EXTERIOR - SECURE AREA\"                 \n",
       " \"AIRPORT PARKING LOT\"                            \n",
       " \"AIRPORT TERMINAL LOWER LEVEL - NON-SECURE AREA\" \n",
       " \"AIRPORT TERMINAL LOWER LEVEL - SECURE AREA\"     \n",
       " \"AIRPORT TERMINAL MEZZANINE - NON-SECURE AREA\"   \n",
       " \"AIRPORT TERMINAL UPPER LEVEL - NON-SECURE AREA\" \n",
       " \"AIRPORT TERMINAL UPPER LEVEL - SECURE AREA\"     \n",
       " \"AIRPORT TRANSPORTATION SYSTEM (ATS)\"            \n",
       " ⋮                                                \n",
       " \"TRUCKING TERMINAL\"                              \n",
       " \"VACANT LOT\"                                     \n",
       " \"VACANT LOT/LAND\"                                \n",
       " \"VEHICLE - DELIVERY TRUCK\"                       \n",
       " \"VEHICLE - OTHER RIDE SERVICE\"                   \n",
       " \"VEHICLE NON-COMMERCIAL\"                         \n",
       " \"VEHICLE-COMMERCIAL\"                             \n",
       " \"VESTIBULE\"                                      \n",
       " \"WAREHOUSE\"                                      \n",
       " \"WOODED AREA\"                                    \n",
       " \"YARD\"                                           \n",
       " \"YMCA\"                                           "
      ]
     },
     "execution_count": 5,
     "metadata": {},
     "output_type": "execute_result"
    }
   ],
   "source": [
    "locations = sort(collect(Set(dropna((crime[:Location_Description])))))\n",
    "# locations = dropna((crime[:Location_Description]))\n",
    "# describe(locations)\n",
    "# listall(locations)\n",
    "# Gadfly.plot(crime, x=:Location_Description, Geom.histogram)"
   ]
  },
  {
   "cell_type": "code",
   "execution_count": 6,
   "metadata": {},
   "outputs": [
    {
     "ename": "LoadError",
     "evalue": "\u001b[91mUndefVarError: Gadfly not defined\u001b[39m",
     "output_type": "error",
     "traceback": [
      "\u001b[91mUndefVarError: Gadfly not defined\u001b[39m",
      "",
      "Stacktrace:",
      " [1] \u001b[1minclude_string\u001b[22m\u001b[22m\u001b[1m(\u001b[22m\u001b[22m::String, ::String\u001b[1m)\u001b[22m\u001b[22m at \u001b[1m./loading.jl:515\u001b[22m\u001b[22m"
     ]
    }
   ],
   "source": [
    "districts = sort(collect(Set(dropna((crime[:District])))))\n",
    "# listall(districts)\n",
    "Gadfly.plot(crime, x=:District, Geom.histogram)"
   ]
  },
  {
   "cell_type": "code",
   "execution_count": 7,
   "metadata": {},
   "outputs": [
    {
     "ename": "LoadError",
     "evalue": "\u001b[91mUndefVarError: Gadfly not defined\u001b[39m",
     "output_type": "error",
     "traceback": [
      "\u001b[91mUndefVarError: Gadfly not defined\u001b[39m",
      "",
      "Stacktrace:",
      " [1] \u001b[1minclude_string\u001b[22m\u001b[22m\u001b[1m(\u001b[22m\u001b[22m::String, ::String\u001b[1m)\u001b[22m\u001b[22m at \u001b[1m./loading.jl:515\u001b[22m\u001b[22m"
     ]
    }
   ],
   "source": [
    "community_areas = sort(collect(Set(dropna((crime[:Community_Area])))))\n",
    "# listall(community_areas)\n",
    "Gadfly.plot(crime, x=:Community_Area, Geom.histogram)"
   ]
  },
  {
   "cell_type": "code",
   "execution_count": 8,
   "metadata": {},
   "outputs": [
    {
     "ename": "LoadError",
     "evalue": "\u001b[91mUndefVarError: Gadfly not defined\u001b[39m",
     "output_type": "error",
     "traceback": [
      "\u001b[91mUndefVarError: Gadfly not defined\u001b[39m",
      "",
      "Stacktrace:",
      " [1] \u001b[1minclude_string\u001b[22m\u001b[22m\u001b[1m(\u001b[22m\u001b[22m::String, ::String\u001b[1m)\u001b[22m\u001b[22m at \u001b[1m./loading.jl:515\u001b[22m\u001b[22m"
     ]
    }
   ],
   "source": [
    "years = sort(collect(Set((crime[:Year]))))\n",
    "# listall(years)\n",
    "Gadfly.plot(crime, x=:Year, color=:Arrest, Geom.histogram)"
   ]
  },
  {
   "cell_type": "code",
   "execution_count": 9,
   "metadata": {
    "collapsed": true
   },
   "outputs": [],
   "source": [
    "crime_removed_types = crime[\n",
    "    (crime[:Primary_Type] .!= \"GAMBLING\") .& \n",
    "    (crime[:Primary_Type] .!= \"LIQUOR_LAW_VIOLATION\") .& \n",
    "    (crime[:Primary_Type] .!= \"PROSTITUTION\") .&\n",
    "    (crime[:Primary_Type] .!= \"NARCOTICS\") .&\n",
    "    (crime[:Primary_Type] .!= \"PUBLIC_INDECENCY\"), :];"
   ]
  },
  {
   "cell_type": "code",
   "execution_count": 10,
   "metadata": {},
   "outputs": [
    {
     "data": {
      "text/plain": [
       "(5675189, 22)"
      ]
     },
     "execution_count": 10,
     "metadata": {},
     "output_type": "execute_result"
    }
   ],
   "source": [
    "size(crime_removed_types)"
   ]
  },
  {
   "cell_type": "code",
   "execution_count": 11,
   "metadata": {
    "collapsed": true
   },
   "outputs": [],
   "source": [
    "# remove undesirable features\n",
    "delete!(crime_removed_types, [:Block, :Beat, :Ward, :FBI_Code, :Updated_On, :Location]);"
   ]
  },
  {
   "cell_type": "code",
   "execution_count": 12,
   "metadata": {
    "collapsed": true
   },
   "outputs": [],
   "source": [
    "months = [\"January\", \"February\", \"March\", \"April\", \"May\", \"June\", \n",
    "    \"July\", \"August\", \"September\", \"October\", \"November\", \"December\"]\n",
    "days = [\"Monday\", \"Tuesday\", \"Wednesday\", \"Thursday\", \"Friday\", \"Saturday\", \"Sunday\"];"
   ]
  }
 ],
 "metadata": {
  "kernelspec": {
   "display_name": "Julia 0.6.0",
   "language": "julia",
   "name": "julia-0.6"
  },
  "language_info": {
   "file_extension": ".jl",
   "mimetype": "application/julia",
   "name": "julia",
   "version": "0.6.0"
  }
 },
 "nbformat": 4,
 "nbformat_minor": 2
}
