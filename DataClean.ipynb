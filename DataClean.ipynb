{
 "cells": [
  {
   "cell_type": "markdown",
   "metadata": {},
   "source": [
    "This is our notebook for data cleaning."
   ]
  },
  {
   "cell_type": "code",
   "execution_count": null,
   "metadata": {
    "collapsed": true
   },
   "outputs": [],
   "source": [
    "import pandas as pd\n",
    "import numpy as np\n",
    "import seaborn as sns\n",
    "import matplotlib.pyplot as plt\n",
    "from dateutil import parser\n",
    "from datetime import datetime as DAMN"
   ]
  },
  {
   "cell_type": "code",
   "execution_count": null,
   "metadata": {
    "collapsed": true
   },
   "outputs": [],
   "source": [
    "def convert_to_datetime(row):\n",
    "    dt = parser.parse(row[\"Date\"])\n",
    "    return dt\n",
    "\n",
    "def label_month(row):\n",
    "    dt = row[\"Datetime\"]\n",
    "    return dt.month\n",
    "\n",
    "def label_hour(row):\n",
    "    dt = row[\"Datetime\"]\n",
    "    return dt.year"
   ]
  },
  {
   "cell_type": "code",
   "execution_count": null,
   "metadata": {},
   "outputs": [],
   "source": [
    "df = pd.read_csv(\"data.csv\")\n",
    "df.shape"
   ]
  },
  {
   "cell_type": "code",
   "execution_count": null,
   "metadata": {},
   "outputs": [],
   "source": [
    "# Drop all data not within last 5 years\n",
    "df = df[df['Year'].map(int) > 2013]\n",
    "df.shape"
   ]
  },
  {
   "cell_type": "code",
   "execution_count": null,
   "metadata": {
    "collapsed": true
   },
   "outputs": [],
   "source": [
    "# Convert Date to Month and Hour\n",
    "df[\"Datetime\"] = df.apply(lambda row : convert_to_datetime(row), axis = 1)\n",
    "df[\"Month\"] = df.apply(lambda row : label_month(row), axis = 1)\n",
    "df[\"Hour\"] = df.apply(lambda row : label_hour(row), axis = 1)\n",
    "\n",
    "df['sin_hour'] = np.sin(2*np.pi*df[\"Hour\"]/24)\n",
    "df['cos_hour'] = np.cos(2*np.pi*df[\"Hour\"]/24)\n",
    "\n",
    "df['sin_month'] = np.sin(2*np.pi*(df[\"Month\"] - 1)/12)\n",
    "df['cos_month'] = np.cos(2*np.pi*(df[\"Month\"] - 1)/12)"
   ]
  },
  {
   "cell_type": "code",
   "execution_count": null,
   "metadata": {
    "collapsed": true
   },
   "outputs": [],
   "source": [
    "# Drop unnecessary columns\n",
    "df.drop([\"ID\", \"Case Number\", \"Date\", \"IUCR\", \"FBI Code\", \"Location\", \"Year\", \"Datetime\", \"Month\", \"Hour\", \"Updated On\"], inplace=True, axis=1)"
   ]
  },
  {
   "cell_type": "code",
   "execution_count": null,
   "metadata": {
    "collapsed": true
   },
   "outputs": [],
   "source": [
    "df[:10]"
   ]
  },
  {
   "cell_type": "code",
   "execution_count": null,
   "metadata": {
    "collapsed": true
   },
   "outputs": [],
   "source": [
    "df.shape"
   ]
  },
  {
   "cell_type": "code",
   "execution_count": null,
   "metadata": {
    "collapsed": true
   },
   "outputs": [],
   "source": [
    "# Drop rows with crime type that we don't think matter\n",
    "df = df[\n",
    "    (df[\"Primary Type\"] != \"GAMBLING\") &\n",
    "    (df[\"Primary Type\"] != \"LIQUOR LAW VIOLATION\") &\n",
    "    (df[\"Primary Type\"] != \"PROSTITUTION\") &\n",
    "    (df[\"Primary Type\"] != \"NARCOTICS\") &\n",
    "    (df[\"Primary Type\"] != \"PUBLIC INDECENCY\") \n",
    "    ]"
   ]
  },
  {
   "cell_type": "code",
   "execution_count": null,
   "metadata": {
    "collapsed": true
   },
   "outputs": [],
   "source": [
    "df.shape"
   ]
  },
  {
   "cell_type": "code",
   "execution_count": null,
   "metadata": {
    "collapsed": true
   },
   "outputs": [],
   "source": [
    "df.dropna(inplace = True)"
   ]
  },
  {
   "cell_type": "code",
   "execution_count": null,
   "metadata": {
    "collapsed": true
   },
   "outputs": [],
   "source": [
    "df.shape"
   ]
  },
  {
   "cell_type": "code",
   "execution_count": null,
   "metadata": {
    "collapsed": true
   },
   "outputs": [],
   "source": [
    "# Convert district to int and arrest and domestic to binary 0, 1 value\n",
    "df[[\"District\", \"Ward\", \"Beat\", \"Community Area\", \"X Coordinate\", \"Y Coordinate\"]] = df[[\"District\", \"Ward\", \"Beat\", \"Community Area\", \"X Coordinate\", \"Y Coordinate\"]].astype(int)\n",
    "df[[\"Latitude\", \"Longitude\"]] = df[[\"Latitude\", \"Longitude\"]].astype(float)\n",
    "df[[\"Arrest\", \"Domestic\"]] = df[[\"Arrest\", \"Domestic\"]].astype(int)"
   ]
  },
  {
   "cell_type": "code",
   "execution_count": null,
   "metadata": {
    "collapsed": true
   },
   "outputs": [],
   "source": [
    "df.shape"
   ]
  },
  {
   "cell_type": "code",
   "execution_count": null,
   "metadata": {
    "collapsed": true
   },
   "outputs": [],
   "source": [
    "df[:10]"
   ]
  },
  {
   "cell_type": "code",
   "execution_count": null,
   "metadata": {
    "collapsed": true
   },
   "outputs": [],
   "source": [
    "sns.heatmap(df.corr())\n",
    "plt.show()"
   ]
  },
  {
   "cell_type": "code",
   "execution_count": null,
   "metadata": {
    "collapsed": true
   },
   "outputs": [],
   "source": [
    "# df.to_csv('crime.csv')"
   ]
  }
 ],
 "metadata": {
  "kernelspec": {
   "display_name": "Python 2",
   "language": "python",
   "name": "python2"
  },
  "language_info": {
   "codemirror_mode": {
    "name": "ipython",
    "version": 2
   },
   "file_extension": ".py",
   "mimetype": "text/x-python",
   "name": "python",
   "nbconvert_exporter": "python",
   "pygments_lexer": "ipython2",
   "version": "2.7.13"
  }
 },
 "nbformat": 4,
 "nbformat_minor": 2
}
