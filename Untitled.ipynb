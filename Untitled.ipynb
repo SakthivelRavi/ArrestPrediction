{
 "cells": [
  {
   "cell_type": "code",
   "execution_count": null,
   "metadata": {
    "collapsed": true
   },
   "outputs": [],
   "source": [
    "import pandas as pd\n",
    "import numpy as np\n",
    "import matplotlib.pyplot as plt\n",
    "import seaborn as sns\n",
    "import re"
   ]
  },
  {
   "cell_type": "code",
   "execution_count": null,
   "metadata": {
    "collapsed": true
   },
   "outputs": [],
   "source": [
    "df = pd.read_csv(\"data.csv\")"
   ]
  },
  {
   "cell_type": "code",
   "execution_count": null,
   "metadata": {
    "collapsed": true
   },
   "outputs": [],
   "source": [
    "def convert_to_datetime(row):\n",
    "    dt = parser.parse(row[\"Date\"])\n",
    "    return dt\n",
    "    \n",
    "def label_day_of_week (row):\n",
    "    dt = row[\"Datetime\"]\n",
    "    return dt.weekday()\n",
    "\n",
    "def label_day_of_month (row):\n",
    "    dt = row[\"Datetime\"]\n",
    "    return dt.day\n",
    "\n",
    "def label_month(row):\n",
    "    dt = row[\"Datetime\"]\n",
    "    return dt.month\n",
    "\n",
    "def convert_iucr(row):\n",
    "    iucr = row[\"IUCR\"]\n",
    "    iucr = re.sub(\"[a-zA-Z]\", \"0\", iucr) # replace letters with 0\n",
    "    if len(iucr) == 3:\n",
    "        return int(iucr[0]), int(iucr[1:])\n",
    "    else:\n",
    "        return int(iucr[:2]), int(iucr[2:])"
   ]
  },
  {
   "cell_type": "code",
   "execution_count": null,
   "metadata": {},
   "outputs": [],
   "source": [
    "# Convert Date to Datetime, Day of Week, Day of Month, and Month\n",
    "df[\"Datetime\"] = df.apply(lambda row : convert_to_datetime(row), axis = 1)\n",
    "df[\"Day of Week\"] = df.apply(lambda row : label_day_of_week(row), axis = 1)\n",
    "df[\"Day Of Month\"] = df.apply(lambda row : label_day_of_month(row), axis = 1)\n",
    "df[\"Month\"] = df.apply(lambda row : label_month(row), axis = 1)\n",
    "# Convert IUCR to Primary Code and Secondary Code values\n",
    "df[\"Primary Code\"] = df.apply(lambda x: convert_iucr(x)[0], axis=1)\n",
    "df[\"Secondary Code\"] = df.apply(lambda x: convert_iucr(x)[1], axis=1)"
   ]
  },
  {
   "cell_type": "code",
   "execution_count": null,
   "metadata": {},
   "outputs": [],
   "source": [
    "print(df.columns)"
   ]
  },
  {
   "cell_type": "code",
   "execution_count": null,
   "metadata": {
    "collapsed": true
   },
   "outputs": [],
   "source": [
    "df.drop([\"ID\", \"Case Number\", \"Date\", \"IUCR\", \"Block\", \"Primary Type\", \"Description\", \"Beat\", \"Ward\", \"FBI Code\", \"Updated On\", \"Location\"], inplace = True, axis=1)"
   ]
  },
  {
   "cell_type": "code",
   "execution_count": null,
   "metadata": {
    "collapsed": true
   },
   "outputs": [],
   "source": [
    "df[:100]"
   ]
  },
  {
   "cell_type": "code",
   "execution_count": null,
   "metadata": {
    "collapsed": true
   },
   "outputs": [],
   "source": [
    "crime = pd.get_dummies(df, columns =['Location Description', 'Arrest', 'Domestic'])"
   ]
  }
 ],
 "metadata": {
  "kernelspec": {
   "display_name": "Python 2",
   "language": "python",
   "name": "python2"
  },
  "language_info": {
   "codemirror_mode": {
    "name": "ipython",
    "version": 2
   },
   "file_extension": ".py",
   "mimetype": "text/x-python",
   "name": "python",
   "nbconvert_exporter": "python",
   "pygments_lexer": "ipython2",
   "version": "2.7.13"
  }
 },
 "nbformat": 4,
 "nbformat_minor": 2
}
