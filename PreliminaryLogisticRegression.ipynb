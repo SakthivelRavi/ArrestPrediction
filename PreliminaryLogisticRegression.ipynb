{
 "cells": [
  {
   "cell_type": "code",
   "execution_count": 1,
   "metadata": {
    "collapsed": true
   },
   "outputs": [],
   "source": [
    "import pandas as pd\n",
    "import numpy as np\n",
    "import matplotlib.pyplot as plt\n",
    "import seaborn as sns\n",
    "import re\n",
    "from dateutil import parser"
   ]
  },
  {
   "cell_type": "code",
   "execution_count": 2,
   "metadata": {},
   "outputs": [
    {
     "name": "stdout",
     "output_type": "stream",
     "text": [
      "141984612\n"
     ]
    }
   ],
   "source": [
    "df = pd.read_csv(\"data.csv\")\n",
    "print(df.size)"
   ]
  },
  {
   "cell_type": "code",
   "execution_count": 3,
   "metadata": {
    "collapsed": true
   },
   "outputs": [],
   "source": [
    "def convert_to_datetime(row):\n",
    "    dt = parser.parse(row[\"Date\"])\n",
    "    return dt\n",
    "\n",
    "def label_month(row):\n",
    "    dt = row[\"Datetime\"]\n",
    "    return dt.month\n",
    "\n",
    "def label_hour(row):\n",
    "    dt = row[\"Datetime\"]\n",
    "    return dt.year"
   ]
  },
  {
   "cell_type": "code",
   "execution_count": null,
   "metadata": {},
   "outputs": [],
   "source": [
    "# Convert Date to Month and Hour\n",
    "df[\"Datetime\"] = df.apply(lambda row : convert_to_datetime(row), axis = 1)\n",
    "df[\"Month\"] = df.apply(lambda row : label_month(row), axis = 1)\n",
    "df[\"Hour\"] = df.apply(lambda row : label_hour(row), axis = 1)\n",
    "\n",
    "df['sin_hour'] = np.sin(2*np.pi*df[\"Hour\"]/24)\n",
    "df['cos_hour'] = np.cos(2*np.pi*df[\"Hour\"]/24)\n",
    "\n",
    "df['sin_month'] = np.sin(2*np.pi*(df[\"Month\"] - 1)/12)\n",
    "df['cos_month'] = np.cos(2*np.pi*(df[\"Month\"] - 1)/12)"
   ]
  },
  {
   "cell_type": "code",
   "execution_count": null,
   "metadata": {
    "collapsed": true
   },
   "outputs": [],
   "source": [
    "# Drop all data not within last 5 years\n",
    "df[df['Year'].map(int) < 2013]\n",
    "\n",
    "# Drop unnecessary columns\n",
    "df.drop([\"ID\", \"Case Number\", \"Date\", \"IUCR\", \"Block\", \"Beat\", \"Ward\", \"FBI Code\", \"Updated On\", \"Location\", \"Year\"], inplace = True, axis=1)\n",
    "\n",
    "# Drop rows with crime type that we don't think matter\n",
    "df = df[\n",
    "    (df[\"Primary Type\"] != \"GAMBLING\") &\n",
    "    (df[\"Primary Type\"] != \"LIQUOR LAW VIOLATION\") &\n",
    "    (df[\"Primary Type\"] != \"PROSTITUTION\") &\n",
    "    (df[\"Primary Type\"] != \"NARCOTICS\") &\n",
    "    (df[\"Primary Type\"] != \"PUBLIC INDECENCY\") \n",
    "    ]"
   ]
  },
  {
   "cell_type": "code",
   "execution_count": null,
   "metadata": {
    "collapsed": true
   },
   "outputs": [],
   "source": [
    "# Drop all location features except for District for preliminary model \n",
    "df.drop(['X Coordinate', 'Y Coordinate', 'Latitude', 'Longitude', 'Community Area'], inplace = True, axis=1)"
   ]
  },
  {
   "cell_type": "code",
   "execution_count": null,
   "metadata": {
    "collapsed": true
   },
   "outputs": [],
   "source": [
    "# No transformations: Arrest, Domestic\n",
    "# One Hot Encoded (Categorical Data): Primary Type, Description, Location Description, District\n",
    "one_hot_columns = pd.get_dummies(df, columns =['Primary Type', 'Description', 'Location Description', 'District'])\n",
    "\n",
    "# Combine one hot encoded columns with the Arrest and Domestic columns to get our official crime data!\n",
    "crime = pd.concat(one_hot_columns, df[\"Arrest\"], df[\"Domestic\"])"
   ]
  },
  {
   "cell_type": "code",
   "execution_count": null,
   "metadata": {
    "collapsed": true
   },
   "outputs": [],
   "source": [
    "df[:100]"
   ]
  }
 ],
 "metadata": {
  "kernelspec": {
   "display_name": "Python 2",
   "language": "python",
   "name": "python2"
  },
  "language_info": {
   "codemirror_mode": {
    "name": "ipython",
    "version": 2
   },
   "file_extension": ".py",
   "mimetype": "text/x-python",
   "name": "python",
   "nbconvert_exporter": "python",
   "pygments_lexer": "ipython2",
   "version": "2.7.13"
  }
 },
 "nbformat": 4,
 "nbformat_minor": 2
}
