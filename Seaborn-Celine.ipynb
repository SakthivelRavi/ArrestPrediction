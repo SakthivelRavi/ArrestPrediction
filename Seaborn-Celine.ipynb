{
 "cells": [
  {
   "cell_type": "code",
   "execution_count": 20,
   "metadata": {
    "collapsed": true
   },
   "outputs": [],
   "source": [
    "import pandas as pd\n",
    "import numpy as np\n",
    "import matplotlib.pyplot as plt\n",
    "import seaborn as sns\n",
    "from dateutil import parser"
   ]
  },
  {
   "cell_type": "code",
   "execution_count": 4,
   "metadata": {
    "collapsed": true
   },
   "outputs": [],
   "source": [
    "crime = pd.read_csv(\"data.csv\")"
   ]
  },
  {
   "cell_type": "code",
   "execution_count": 5,
   "metadata": {},
   "outputs": [
    {
     "data": {
      "text/html": [
       "<div>\n",
       "<style>\n",
       "    .dataframe thead tr:only-child th {\n",
       "        text-align: right;\n",
       "    }\n",
       "\n",
       "    .dataframe thead th {\n",
       "        text-align: left;\n",
       "    }\n",
       "\n",
       "    .dataframe tbody tr th {\n",
       "        vertical-align: top;\n",
       "    }\n",
       "</style>\n",
       "<table border=\"1\" class=\"dataframe\">\n",
       "  <thead>\n",
       "    <tr style=\"text-align: right;\">\n",
       "      <th></th>\n",
       "      <th>ID</th>\n",
       "      <th>Case Number</th>\n",
       "      <th>Date</th>\n",
       "      <th>Block</th>\n",
       "      <th>IUCR</th>\n",
       "      <th>Primary Type</th>\n",
       "      <th>Description</th>\n",
       "      <th>Location Description</th>\n",
       "      <th>Arrest</th>\n",
       "      <th>Domestic</th>\n",
       "      <th>...</th>\n",
       "      <th>Ward</th>\n",
       "      <th>Community Area</th>\n",
       "      <th>FBI Code</th>\n",
       "      <th>X Coordinate</th>\n",
       "      <th>Y Coordinate</th>\n",
       "      <th>Year</th>\n",
       "      <th>Updated On</th>\n",
       "      <th>Latitude</th>\n",
       "      <th>Longitude</th>\n",
       "      <th>Location</th>\n",
       "    </tr>\n",
       "  </thead>\n",
       "  <tbody>\n",
       "    <tr>\n",
       "      <th>0</th>\n",
       "      <td>6530342</td>\n",
       "      <td>HP603653</td>\n",
       "      <td>10/01/2008 03:30:00 PM</td>\n",
       "      <td>076XX S COTTAGE GROVE AVE</td>\n",
       "      <td>0460</td>\n",
       "      <td>BATTERY</td>\n",
       "      <td>SIMPLE</td>\n",
       "      <td>SIDEWALK</td>\n",
       "      <td>False</td>\n",
       "      <td>False</td>\n",
       "      <td>...</td>\n",
       "      <td>6.0</td>\n",
       "      <td>69.0</td>\n",
       "      <td>08B</td>\n",
       "      <td>1182884.0</td>\n",
       "      <td>1854628.0</td>\n",
       "      <td>2008</td>\n",
       "      <td>02/04/2016 06:33:39 AM</td>\n",
       "      <td>41.756303</td>\n",
       "      <td>-87.605332</td>\n",
       "      <td>(41.756302533, -87.605331512)</td>\n",
       "    </tr>\n",
       "    <tr>\n",
       "      <th>1</th>\n",
       "      <td>6530343</td>\n",
       "      <td>HP603773</td>\n",
       "      <td>10/01/2008 05:00:00 PM</td>\n",
       "      <td>031XX S GREEN ST</td>\n",
       "      <td>0620</td>\n",
       "      <td>BURGLARY</td>\n",
       "      <td>UNLAWFUL ENTRY</td>\n",
       "      <td>RESIDENCE</td>\n",
       "      <td>False</td>\n",
       "      <td>False</td>\n",
       "      <td>...</td>\n",
       "      <td>11.0</td>\n",
       "      <td>60.0</td>\n",
       "      <td>05</td>\n",
       "      <td>1171221.0</td>\n",
       "      <td>1884004.0</td>\n",
       "      <td>2008</td>\n",
       "      <td>02/04/2016 06:33:39 AM</td>\n",
       "      <td>41.837176</td>\n",
       "      <td>-87.647215</td>\n",
       "      <td>(41.837176353, -87.647214569)</td>\n",
       "    </tr>\n",
       "    <tr>\n",
       "      <th>2</th>\n",
       "      <td>6530344</td>\n",
       "      <td>HP600313</td>\n",
       "      <td>09/29/2008 04:15:00 PM</td>\n",
       "      <td>063XX S STONY ISLAND AVE</td>\n",
       "      <td>0890</td>\n",
       "      <td>THEFT</td>\n",
       "      <td>FROM BUILDING</td>\n",
       "      <td>OTHER</td>\n",
       "      <td>False</td>\n",
       "      <td>False</td>\n",
       "      <td>...</td>\n",
       "      <td>20.0</td>\n",
       "      <td>42.0</td>\n",
       "      <td>06</td>\n",
       "      <td>1187961.0</td>\n",
       "      <td>1863261.0</td>\n",
       "      <td>2008</td>\n",
       "      <td>02/04/2016 06:33:39 AM</td>\n",
       "      <td>41.779873</td>\n",
       "      <td>-87.586451</td>\n",
       "      <td>(41.779872827, -87.586450869)</td>\n",
       "    </tr>\n",
       "  </tbody>\n",
       "</table>\n",
       "<p>3 rows × 22 columns</p>\n",
       "</div>"
      ],
      "text/plain": [
       "        ID Case Number                    Date                      Block  \\\n",
       "0  6530342    HP603653  10/01/2008 03:30:00 PM  076XX S COTTAGE GROVE AVE   \n",
       "1  6530343    HP603773  10/01/2008 05:00:00 PM           031XX S GREEN ST   \n",
       "2  6530344    HP600313  09/29/2008 04:15:00 PM   063XX S STONY ISLAND AVE   \n",
       "\n",
       "   IUCR Primary Type     Description Location Description  Arrest  Domestic  \\\n",
       "0  0460      BATTERY          SIMPLE             SIDEWALK   False     False   \n",
       "1  0620     BURGLARY  UNLAWFUL ENTRY            RESIDENCE   False     False   \n",
       "2  0890        THEFT   FROM BUILDING                OTHER   False     False   \n",
       "\n",
       "               ...                Ward  Community Area  FBI Code  \\\n",
       "0              ...                 6.0            69.0       08B   \n",
       "1              ...                11.0            60.0        05   \n",
       "2              ...                20.0            42.0        06   \n",
       "\n",
       "   X Coordinate Y Coordinate  Year              Updated On   Latitude  \\\n",
       "0     1182884.0    1854628.0  2008  02/04/2016 06:33:39 AM  41.756303   \n",
       "1     1171221.0    1884004.0  2008  02/04/2016 06:33:39 AM  41.837176   \n",
       "2     1187961.0    1863261.0  2008  02/04/2016 06:33:39 AM  41.779873   \n",
       "\n",
       "   Longitude                       Location  \n",
       "0 -87.605332  (41.756302533, -87.605331512)  \n",
       "1 -87.647215  (41.837176353, -87.647214569)  \n",
       "2 -87.586451  (41.779872827, -87.586450869)  \n",
       "\n",
       "[3 rows x 22 columns]"
      ]
     },
     "execution_count": 5,
     "metadata": {},
     "output_type": "execute_result"
    }
   ],
   "source": [
    "crime[:3]"
   ]
  },
  {
   "cell_type": "code",
   "execution_count": 6,
   "metadata": {},
   "outputs": [
    {
     "data": {
      "image/png": "[encoded data removed]",
      "text/plain": [
       "<matplotlib.figure.Figure at 0x1029329b0>"
      ]
     },
     "metadata": {},
     "output_type": "display_data"
    }
   ],
   "source": [
    "plt.xticks(rotation=90)\n",
    "sns.countplot(x='Primary Type', hue='Arrest', data=crime)\n",
    "plt.show()"
   ]
  },
  {
   "cell_type": "code",
   "execution_count": 55,
   "metadata": {
    "collapsed": true
   },
   "outputs": [],
   "source": [
    "mini_crime = crime[:100]\n",
    "def convert_to_datetime(row) :\n",
    "    dt = parser.parse(row[\"Date\"])\n",
    "    return dt\n",
    "    \n",
    "def label_day_of_week (row) :\n",
    "    dt = row[\"Datetime\"]\n",
    "    return dt.weekday()\n",
    "\n",
    "def label_day_of_month (row) :\n",
    "    dt = row[\"Datetime\"]\n",
    "    return dt.day\n",
    "\n",
    "def label_month(row) :\n",
    "    dt = row[\"Datetime\"]\n",
    "    return dt.month\n",
    "def label_year(row) :\n",
    "    dt = row[\"Datetime\"]\n",
    "    return dt.year\n"
   ]
  },
  {
   "cell_type": "code",
   "execution_count": 32,
   "metadata": {},
   "outputs": [
    {
     "data": {
      "text/html": [
       "<div>\n",
       "<style>\n",
       "    .dataframe thead tr:only-child th {\n",
       "        text-align: right;\n",
       "    }\n",
       "\n",
       "    .dataframe thead th {\n",
       "        text-align: left;\n",
       "    }\n",
       "\n",
       "    .dataframe tbody tr th {\n",
       "        vertical-align: top;\n",
       "    }\n",
       "</style>\n",
       "<table border=\"1\" class=\"dataframe\">\n",
       "  <thead>\n",
       "    <tr style=\"text-align: right;\">\n",
       "      <th></th>\n",
       "      <th>ID</th>\n",
       "      <th>Case Number</th>\n",
       "      <th>Date</th>\n",
       "      <th>Block</th>\n",
       "      <th>IUCR</th>\n",
       "      <th>Primary Type</th>\n",
       "      <th>Description</th>\n",
       "      <th>Location Description</th>\n",
       "      <th>Arrest</th>\n",
       "      <th>Domestic</th>\n",
       "      <th>...</th>\n",
       "      <th>Community Area</th>\n",
       "      <th>FBI Code</th>\n",
       "      <th>X Coordinate</th>\n",
       "      <th>Y Coordinate</th>\n",
       "      <th>Year</th>\n",
       "      <th>Updated On</th>\n",
       "      <th>Latitude</th>\n",
       "      <th>Longitude</th>\n",
       "      <th>Location</th>\n",
       "      <th>Datetime</th>\n",
       "    </tr>\n",
       "  </thead>\n",
       "  <tbody>\n",
       "    <tr>\n",
       "      <th>0</th>\n",
       "      <td>6530342</td>\n",
       "      <td>HP603653</td>\n",
       "      <td>10/01/2008 03:30:00 PM</td>\n",
       "      <td>076XX S COTTAGE GROVE AVE</td>\n",
       "      <td>0460</td>\n",
       "      <td>BATTERY</td>\n",
       "      <td>SIMPLE</td>\n",
       "      <td>SIDEWALK</td>\n",
       "      <td>False</td>\n",
       "      <td>False</td>\n",
       "      <td>...</td>\n",
       "      <td>69.0</td>\n",
       "      <td>08B</td>\n",
       "      <td>1182884.0</td>\n",
       "      <td>1854628.0</td>\n",
       "      <td>2008</td>\n",
       "      <td>02/04/2016 06:33:39 AM</td>\n",
       "      <td>41.756303</td>\n",
       "      <td>-87.605332</td>\n",
       "      <td>(41.756302533, -87.605331512)</td>\n",
       "      <td>2008-10-01 15:30:00</td>\n",
       "    </tr>\n",
       "    <tr>\n",
       "      <th>1</th>\n",
       "      <td>6530343</td>\n",
       "      <td>HP603773</td>\n",
       "      <td>10/01/2008 05:00:00 PM</td>\n",
       "      <td>031XX S GREEN ST</td>\n",
       "      <td>0620</td>\n",
       "      <td>BURGLARY</td>\n",
       "      <td>UNLAWFUL ENTRY</td>\n",
       "      <td>RESIDENCE</td>\n",
       "      <td>False</td>\n",
       "      <td>False</td>\n",
       "      <td>...</td>\n",
       "      <td>60.0</td>\n",
       "      <td>05</td>\n",
       "      <td>1171221.0</td>\n",
       "      <td>1884004.0</td>\n",
       "      <td>2008</td>\n",
       "      <td>02/04/2016 06:33:39 AM</td>\n",
       "      <td>41.837176</td>\n",
       "      <td>-87.647215</td>\n",
       "      <td>(41.837176353, -87.647214569)</td>\n",
       "      <td>2008-10-01 17:00:00</td>\n",
       "    </tr>\n",
       "    <tr>\n",
       "      <th>2</th>\n",
       "      <td>6530344</td>\n",
       "      <td>HP600313</td>\n",
       "      <td>09/29/2008 04:15:00 PM</td>\n",
       "      <td>063XX S STONY ISLAND AVE</td>\n",
       "      <td>0890</td>\n",
       "      <td>THEFT</td>\n",
       "      <td>FROM BUILDING</td>\n",
       "      <td>OTHER</td>\n",
       "      <td>False</td>\n",
       "      <td>False</td>\n",
       "      <td>...</td>\n",
       "      <td>42.0</td>\n",
       "      <td>06</td>\n",
       "      <td>1187961.0</td>\n",
       "      <td>1863261.0</td>\n",
       "      <td>2008</td>\n",
       "      <td>02/04/2016 06:33:39 AM</td>\n",
       "      <td>41.779873</td>\n",
       "      <td>-87.586451</td>\n",
       "      <td>(41.779872827, -87.586450869)</td>\n",
       "      <td>2008-09-29 16:15:00</td>\n",
       "    </tr>\n",
       "  </tbody>\n",
       "</table>\n",
       "<p>3 rows × 23 columns</p>\n",
       "</div>"
      ],
      "text/plain": [
       "        ID Case Number                    Date                      Block  \\\n",
       "0  6530342    HP603653  10/01/2008 03:30:00 PM  076XX S COTTAGE GROVE AVE   \n",
       "1  6530343    HP603773  10/01/2008 05:00:00 PM           031XX S GREEN ST   \n",
       "2  6530344    HP600313  09/29/2008 04:15:00 PM   063XX S STONY ISLAND AVE   \n",
       "\n",
       "   IUCR Primary Type     Description Location Description  Arrest  Domestic  \\\n",
       "0  0460      BATTERY          SIMPLE             SIDEWALK   False     False   \n",
       "1  0620     BURGLARY  UNLAWFUL ENTRY            RESIDENCE   False     False   \n",
       "2  0890        THEFT   FROM BUILDING                OTHER   False     False   \n",
       "\n",
       "          ...          Community Area  FBI Code  X Coordinate  Y Coordinate  \\\n",
       "0         ...                    69.0       08B     1182884.0     1854628.0   \n",
       "1         ...                    60.0        05     1171221.0     1884004.0   \n",
       "2         ...                    42.0        06     1187961.0     1863261.0   \n",
       "\n",
       "   Year              Updated On   Latitude  Longitude  \\\n",
       "0  2008  02/04/2016 06:33:39 AM  41.756303 -87.605332   \n",
       "1  2008  02/04/2016 06:33:39 AM  41.837176 -87.647215   \n",
       "2  2008  02/04/2016 06:33:39 AM  41.779873 -87.586451   \n",
       "\n",
       "                        Location            Datetime  \n",
       "0  (41.756302533, -87.605331512) 2008-10-01 15:30:00  \n",
       "1  (41.837176353, -87.647214569) 2008-10-01 17:00:00  \n",
       "2  (41.779872827, -87.586450869) 2008-09-29 16:15:00  \n",
       "\n",
       "[3 rows x 23 columns]"
      ]
     },
     "execution_count": 32,
     "metadata": {},
     "output_type": "execute_result"
    }
   ],
   "source": [
    "crime[\"Datetime\"] = crime.apply(lambda row : convert_to_datetime(row), axis = 1)\n",
    "crime[:3]"
   ]
  },
  {
   "cell_type": "code",
   "execution_count": 36,
   "metadata": {},
   "outputs": [],
   "source": [
    "crime[\"Day of Week\"] = crime.apply(lambda row : label_day_of_week(row), axis = 1)"
   ]
  },
  {
   "cell_type": "code",
   "execution_count": 37,
   "metadata": {},
   "outputs": [],
   "source": [
    "crime[\"Day Of Month\"] = crime.apply(lambda row : label_day_of_month(row), axis = 1)"
   ]
  },
  {
   "cell_type": "code",
   "execution_count": 38,
   "metadata": {},
   "outputs": [],
   "source": [
    "crime[\"Month\"] = crime.apply(lambda row : label_month(row), axis = 1)"
   ]
  },
  {
   "cell_type": "code",
   "execution_count": 39,
   "metadata": {},
   "outputs": [
    {
     "data": {
      "image/png": "[encoded data removed]",
      "text/plain": [
       "<matplotlib.figure.Figure at 0x19b385630>"
      ]
     },
     "metadata": {},
     "output_type": "display_data"
    }
   ],
   "source": [
    "plt.xticks(rotation=90)\n",
    "sns.countplot(x='Day of Week', hue='Arrest', data=crime)\n",
    "plt.show()"
   ]
  },
  {
   "cell_type": "code",
   "execution_count": 41,
   "metadata": {},
   "outputs": [
    {
     "data": {
      "text/html": [
       "<div>\n",
       "<style>\n",
       "    .dataframe thead tr:only-child th {\n",
       "        text-align: right;\n",
       "    }\n",
       "\n",
       "    .dataframe thead th {\n",
       "        text-align: left;\n",
       "    }\n",
       "\n",
       "    .dataframe tbody tr th {\n",
       "        vertical-align: top;\n",
       "    }\n",
       "</style>\n",
       "<table border=\"1\" class=\"dataframe\">\n",
       "  <thead>\n",
       "    <tr style=\"text-align: right;\">\n",
       "      <th></th>\n",
       "      <th>ID</th>\n",
       "      <th>Case Number</th>\n",
       "      <th>Date</th>\n",
       "      <th>Block</th>\n",
       "      <th>IUCR</th>\n",
       "      <th>Primary Type</th>\n",
       "      <th>Description</th>\n",
       "      <th>Location Description</th>\n",
       "      <th>Arrest</th>\n",
       "      <th>Domestic</th>\n",
       "      <th>...</th>\n",
       "      <th>Y Coordinate</th>\n",
       "      <th>Year</th>\n",
       "      <th>Updated On</th>\n",
       "      <th>Latitude</th>\n",
       "      <th>Longitude</th>\n",
       "      <th>Location</th>\n",
       "      <th>Datetime</th>\n",
       "      <th>Day of Week</th>\n",
       "      <th>Day Of Month</th>\n",
       "      <th>Month</th>\n",
       "    </tr>\n",
       "  </thead>\n",
       "  <tbody>\n",
       "    <tr>\n",
       "      <th>0</th>\n",
       "      <td>6530342</td>\n",
       "      <td>HP603653</td>\n",
       "      <td>10/01/2008 03:30:00 PM</td>\n",
       "      <td>076XX S COTTAGE GROVE AVE</td>\n",
       "      <td>0460</td>\n",
       "      <td>BATTERY</td>\n",
       "      <td>SIMPLE</td>\n",
       "      <td>SIDEWALK</td>\n",
       "      <td>False</td>\n",
       "      <td>False</td>\n",
       "      <td>...</td>\n",
       "      <td>1854628.0</td>\n",
       "      <td>2008</td>\n",
       "      <td>02/04/2016 06:33:39 AM</td>\n",
       "      <td>41.756303</td>\n",
       "      <td>-87.605332</td>\n",
       "      <td>(41.756302533, -87.605331512)</td>\n",
       "      <td>2008-10-01 15:30:00</td>\n",
       "      <td>2</td>\n",
       "      <td>1</td>\n",
       "      <td>10</td>\n",
       "    </tr>\n",
       "    <tr>\n",
       "      <th>1</th>\n",
       "      <td>6530343</td>\n",
       "      <td>HP603773</td>\n",
       "      <td>10/01/2008 05:00:00 PM</td>\n",
       "      <td>031XX S GREEN ST</td>\n",
       "      <td>0620</td>\n",
       "      <td>BURGLARY</td>\n",
       "      <td>UNLAWFUL ENTRY</td>\n",
       "      <td>RESIDENCE</td>\n",
       "      <td>False</td>\n",
       "      <td>False</td>\n",
       "      <td>...</td>\n",
       "      <td>1884004.0</td>\n",
       "      <td>2008</td>\n",
       "      <td>02/04/2016 06:33:39 AM</td>\n",
       "      <td>41.837176</td>\n",
       "      <td>-87.647215</td>\n",
       "      <td>(41.837176353, -87.647214569)</td>\n",
       "      <td>2008-10-01 17:00:00</td>\n",
       "      <td>2</td>\n",
       "      <td>1</td>\n",
       "      <td>10</td>\n",
       "    </tr>\n",
       "    <tr>\n",
       "      <th>2</th>\n",
       "      <td>6530344</td>\n",
       "      <td>HP600313</td>\n",
       "      <td>09/29/2008 04:15:00 PM</td>\n",
       "      <td>063XX S STONY ISLAND AVE</td>\n",
       "      <td>0890</td>\n",
       "      <td>THEFT</td>\n",
       "      <td>FROM BUILDING</td>\n",
       "      <td>OTHER</td>\n",
       "      <td>False</td>\n",
       "      <td>False</td>\n",
       "      <td>...</td>\n",
       "      <td>1863261.0</td>\n",
       "      <td>2008</td>\n",
       "      <td>02/04/2016 06:33:39 AM</td>\n",
       "      <td>41.779873</td>\n",
       "      <td>-87.586451</td>\n",
       "      <td>(41.779872827, -87.586450869)</td>\n",
       "      <td>2008-09-29 16:15:00</td>\n",
       "      <td>0</td>\n",
       "      <td>29</td>\n",
       "      <td>9</td>\n",
       "    </tr>\n",
       "  </tbody>\n",
       "</table>\n",
       "<p>3 rows × 26 columns</p>\n",
       "</div>"
      ],
      "text/plain": [
       "        ID Case Number                    Date                      Block  \\\n",
       "0  6530342    HP603653  10/01/2008 03:30:00 PM  076XX S COTTAGE GROVE AVE   \n",
       "1  6530343    HP603773  10/01/2008 05:00:00 PM           031XX S GREEN ST   \n",
       "2  6530344    HP600313  09/29/2008 04:15:00 PM   063XX S STONY ISLAND AVE   \n",
       "\n",
       "   IUCR Primary Type     Description Location Description  Arrest  Domestic  \\\n",
       "0  0460      BATTERY          SIMPLE             SIDEWALK   False     False   \n",
       "1  0620     BURGLARY  UNLAWFUL ENTRY            RESIDENCE   False     False   \n",
       "2  0890        THEFT   FROM BUILDING                OTHER   False     False   \n",
       "\n",
       "   ...    Y Coordinate  Year              Updated On   Latitude  Longitude  \\\n",
       "0  ...       1854628.0  2008  02/04/2016 06:33:39 AM  41.756303 -87.605332   \n",
       "1  ...       1884004.0  2008  02/04/2016 06:33:39 AM  41.837176 -87.647215   \n",
       "2  ...       1863261.0  2008  02/04/2016 06:33:39 AM  41.779873 -87.586451   \n",
       "\n",
       "                        Location            Datetime  Day of Week  \\\n",
       "0  (41.756302533, -87.605331512) 2008-10-01 15:30:00            2   \n",
       "1  (41.837176353, -87.647214569) 2008-10-01 17:00:00            2   \n",
       "2  (41.779872827, -87.586450869) 2008-09-29 16:15:00            0   \n",
       "\n",
       "  Day Of Month  Month  \n",
       "0            1     10  \n",
       "1            1     10  \n",
       "2           29      9  \n",
       "\n",
       "[3 rows x 26 columns]"
      ]
     },
     "execution_count": 41,
     "metadata": {},
     "output_type": "execute_result"
    }
   ],
   "source": [
    "crime[:3]"
   ]
  },
  {
   "cell_type": "code",
   "execution_count": 42,
   "metadata": {},
   "outputs": [
    {
     "data": {
      "image/png": "[encoded data removed]",
      "text/plain": [
       "<matplotlib.figure.Figure at 0x3267999e8>"
      ]
     },
     "metadata": {},
     "output_type": "display_data"
    }
   ],
   "source": [
    "plt.xticks(rotation=90)\n",
    "sns.countplot(x=\"Day Of Month\", hue='Arrest', data=crime)\n",
    "plt.show()"
   ]
  },
  {
   "cell_type": "code",
   "execution_count": 43,
   "metadata": {},
   "outputs": [
    {
     "data": {
      "image/png": "[encoded data removed]",
      "text/plain": [
       "<matplotlib.figure.Figure at 0x24618e828>"
      ]
     },
     "metadata": {},
     "output_type": "display_data"
    }
   ],
   "source": [
    "plt.xticks(rotation=90)\n",
    "sns.countplot(x='Month', hue='Arrest', data=crime)\n",
    "plt.show()"
   ]
  },
  {
   "cell_type": "code",
   "execution_count": 58,
   "metadata": {},
   "outputs": [
    {
     "data": {
      "text/html": [
       "<div>\n",
       "<style>\n",
       "    .dataframe thead tr:only-child th {\n",
       "        text-align: right;\n",
       "    }\n",
       "\n",
       "    .dataframe thead th {\n",
       "        text-align: left;\n",
       "    }\n",
       "\n",
       "    .dataframe tbody tr th {\n",
       "        vertical-align: top;\n",
       "    }\n",
       "</style>\n",
       "<table border=\"1\" class=\"dataframe\">\n",
       "  <thead>\n",
       "    <tr style=\"text-align: right;\">\n",
       "      <th></th>\n",
       "      <th>ID</th>\n",
       "      <th>Case Number</th>\n",
       "      <th>Date</th>\n",
       "      <th>Block</th>\n",
       "      <th>IUCR</th>\n",
       "      <th>Primary Type</th>\n",
       "      <th>Description</th>\n",
       "      <th>Location Description</th>\n",
       "      <th>Arrest</th>\n",
       "      <th>Domestic</th>\n",
       "      <th>...</th>\n",
       "      <th>Y Coordinate</th>\n",
       "      <th>Year</th>\n",
       "      <th>Updated On</th>\n",
       "      <th>Latitude</th>\n",
       "      <th>Longitude</th>\n",
       "      <th>Location</th>\n",
       "      <th>Datetime</th>\n",
       "      <th>Day of Week</th>\n",
       "      <th>Day Of Month</th>\n",
       "      <th>Month</th>\n",
       "    </tr>\n",
       "  </thead>\n",
       "  <tbody>\n",
       "    <tr>\n",
       "      <th>0</th>\n",
       "      <td>6530342</td>\n",
       "      <td>HP603653</td>\n",
       "      <td>10/01/2008 03:30:00 PM</td>\n",
       "      <td>076XX S COTTAGE GROVE AVE</td>\n",
       "      <td>0460</td>\n",
       "      <td>BATTERY</td>\n",
       "      <td>SIMPLE</td>\n",
       "      <td>SIDEWALK</td>\n",
       "      <td>False</td>\n",
       "      <td>False</td>\n",
       "      <td>...</td>\n",
       "      <td>1854628.0</td>\n",
       "      <td>2008</td>\n",
       "      <td>02/04/2016 06:33:39 AM</td>\n",
       "      <td>41.756303</td>\n",
       "      <td>-87.605332</td>\n",
       "      <td>(41.756302533, -87.605331512)</td>\n",
       "      <td>2008-10-01 15:30:00</td>\n",
       "      <td>2</td>\n",
       "      <td>1</td>\n",
       "      <td>10</td>\n",
       "    </tr>\n",
       "    <tr>\n",
       "      <th>1</th>\n",
       "      <td>6530343</td>\n",
       "      <td>HP603773</td>\n",
       "      <td>10/01/2008 05:00:00 PM</td>\n",
       "      <td>031XX S GREEN ST</td>\n",
       "      <td>0620</td>\n",
       "      <td>BURGLARY</td>\n",
       "      <td>UNLAWFUL ENTRY</td>\n",
       "      <td>RESIDENCE</td>\n",
       "      <td>False</td>\n",
       "      <td>False</td>\n",
       "      <td>...</td>\n",
       "      <td>1884004.0</td>\n",
       "      <td>2008</td>\n",
       "      <td>02/04/2016 06:33:39 AM</td>\n",
       "      <td>41.837176</td>\n",
       "      <td>-87.647215</td>\n",
       "      <td>(41.837176353, -87.647214569)</td>\n",
       "      <td>2008-10-01 17:00:00</td>\n",
       "      <td>2</td>\n",
       "      <td>1</td>\n",
       "      <td>10</td>\n",
       "    </tr>\n",
       "    <tr>\n",
       "      <th>2</th>\n",
       "      <td>6530344</td>\n",
       "      <td>HP600313</td>\n",
       "      <td>09/29/2008 04:15:00 PM</td>\n",
       "      <td>063XX S STONY ISLAND AVE</td>\n",
       "      <td>0890</td>\n",
       "      <td>THEFT</td>\n",
       "      <td>FROM BUILDING</td>\n",
       "      <td>OTHER</td>\n",
       "      <td>False</td>\n",
       "      <td>False</td>\n",
       "      <td>...</td>\n",
       "      <td>1863261.0</td>\n",
       "      <td>2008</td>\n",
       "      <td>02/04/2016 06:33:39 AM</td>\n",
       "      <td>41.779873</td>\n",
       "      <td>-87.586451</td>\n",
       "      <td>(41.779872827, -87.586450869)</td>\n",
       "      <td>2008-09-29 16:15:00</td>\n",
       "      <td>0</td>\n",
       "      <td>29</td>\n",
       "      <td>9</td>\n",
       "    </tr>\n",
       "  </tbody>\n",
       "</table>\n",
       "<p>3 rows × 26 columns</p>\n",
       "</div>"
      ],
      "text/plain": [
       "        ID Case Number                    Date                      Block  \\\n",
       "0  6530342    HP603653  10/01/2008 03:30:00 PM  076XX S COTTAGE GROVE AVE   \n",
       "1  6530343    HP603773  10/01/2008 05:00:00 PM           031XX S GREEN ST   \n",
       "2  6530344    HP600313  09/29/2008 04:15:00 PM   063XX S STONY ISLAND AVE   \n",
       "\n",
       "   IUCR Primary Type     Description Location Description  Arrest  Domestic  \\\n",
       "0  0460      BATTERY          SIMPLE             SIDEWALK   False     False   \n",
       "1  0620     BURGLARY  UNLAWFUL ENTRY            RESIDENCE   False     False   \n",
       "2  0890        THEFT   FROM BUILDING                OTHER   False     False   \n",
       "\n",
       "   ...    Y Coordinate  Year              Updated On   Latitude  Longitude  \\\n",
       "0  ...       1854628.0  2008  02/04/2016 06:33:39 AM  41.756303 -87.605332   \n",
       "1  ...       1884004.0  2008  02/04/2016 06:33:39 AM  41.837176 -87.647215   \n",
       "2  ...       1863261.0  2008  02/04/2016 06:33:39 AM  41.779873 -87.586451   \n",
       "\n",
       "                        Location            Datetime  Day of Week  \\\n",
       "0  (41.756302533, -87.605331512) 2008-10-01 15:30:00            2   \n",
       "1  (41.837176353, -87.647214569) 2008-10-01 17:00:00            2   \n",
       "2  (41.779872827, -87.586450869) 2008-09-29 16:15:00            0   \n",
       "\n",
       "  Day Of Month  Month  \n",
       "0            1     10  \n",
       "1            1     10  \n",
       "2           29      9  \n",
       "\n",
       "[3 rows x 26 columns]"
      ]
     },
     "execution_count": 58,
     "metadata": {},
     "output_type": "execute_result"
    }
   ],
   "source": [
    "usable_crime = crime.copy(True)\n",
    "usable_crime[\"Year\"] = usable_crime.apply(lambda row : label_year(row), axis=1)\n",
    "usable_crime[0:3]"
   ]
  },
  {
   "cell_type": "code",
   "execution_count": 60,
   "metadata": {},
   "outputs": [],
   "source": [
    "usable_crime = usable_crime[\n",
    "    (usable_crime[\"Primary Type\"] != \"GAMBLING\") &\n",
    "    (usable_crime[\"Primary Type\"] != \"LIQUOR LAW VIOLATION\") &\n",
    "    (usable_crime[\"Primary Type\"] != \"PROSTITUTION\") &\n",
    "    (usable_crime[\"Primary Type\"] != \"NARCOTICS\") &\n",
    "    (usable_crime[\"Primary Type\"] != \"PUBLIC INDECENCY\") \n",
    "    ]\n",
    "\n"
   ]
  },
  {
   "cell_type": "code",
   "execution_count": null,
   "metadata": {
    "collapsed": true
   },
   "outputs": [],
   "source": [
    "usable_crime.drop(inplace = True, labels = [\"ID\", \"Case Number\", \"Date\", \"Block\", \"Primary Type\", \"Description\", \"Beat\", \"Ward\", \"FBI Code\", \"Updated_on\", \"Location\"])"
   ]
  },
  {
   "cell_type": "code",
   "execution_count": null,
   "metadata": {
    "collapsed": true
   },
   "outputs": [],
   "source": [
    "usable_crime[\"Day of Week\"] = usable_crime.apply(lambda row : label_day_of_week(row), axis = 1)"
   ]
  },
  {
   "cell_type": "code",
   "execution_count": null,
   "metadata": {
    "collapsed": true
   },
   "outputs": [],
   "source": [
    "usable_crime[\"Day Of Month\"] = usable_crime.apply(lambda row : label_day_of_month(row), axis = 1)"
   ]
  },
  {
   "cell_type": "code",
   "execution_count": null,
   "metadata": {
    "collapsed": true
   },
   "outputs": [],
   "source": [
    "usable_crime[\"Month\"] = usable_crime.apply(lambda row : label_month(row), axis = 1)"
   ]
  },
  {
   "cell_type": "code",
   "execution_count": 52,
   "metadata": {},
   "outputs": [
    {
     "data": {
      "image/png": "[encoded data removed]",
      "text/plain": [
       "<matplotlib.figure.Figure at 0x11151bbe0>"
      ]
     },
     "metadata": {},
     "output_type": "display_data"
    }
   ],
   "source": [
    "plt.xticks(rotation=90)\n",
    "sns.countplot(x='Day of Week', hue='Arrest', data=usable_crime)\n",
    "plt.show()"
   ]
  },
  {
   "cell_type": "code",
   "execution_count": 53,
   "metadata": {},
   "outputs": [
    {
     "data": {
      "image/png": "[encoded data removed]",
      "text/plain": [
       "<matplotlib.figure.Figure at 0x110e99da0>"
      ]
     },
     "metadata": {},
     "output_type": "display_data"
    }
   ],
   "source": [
    "plt.xticks(rotation=90)\n",
    "sns.countplot(x=\"Day Of Month\", hue='Arrest', data=usable_crime)\n",
    "plt.show()"
   ]
  },
  {
   "cell_type": "code",
   "execution_count": 54,
   "metadata": {},
   "outputs": [
    {
     "data": {
      "image/png": "[encoded data removed]",
      "text/plain": [
       "<matplotlib.figure.Figure at 0x111fa87f0>"
      ]
     },
     "metadata": {},
     "output_type": "display_data"
    }
   ],
   "source": [
    "plt.xticks(rotation=90)\n",
    "sns.countplot(x='Month', hue='Arrest', data=usable_crime)\n",
    "plt.show()"
   ]
  },
  {
   "cell_type": "code",
   "execution_count": 67,
   "metadata": {},
   "outputs": [
    {
     "data": {
      "text/html": [
       "<div>\n",
       "<style>\n",
       "    .dataframe thead tr:only-child th {\n",
       "        text-align: right;\n",
       "    }\n",
       "\n",
       "    .dataframe thead th {\n",
       "        text-align: left;\n",
       "    }\n",
       "\n",
       "    .dataframe tbody tr th {\n",
       "        vertical-align: top;\n",
       "    }\n",
       "</style>\n",
       "<table border=\"1\" class=\"dataframe\">\n",
       "  <thead>\n",
       "    <tr style=\"text-align: right;\">\n",
       "      <th></th>\n",
       "      <th>IUCR</th>\n",
       "      <th>Location Description</th>\n",
       "      <th>Arrest</th>\n",
       "      <th>Domestic</th>\n",
       "      <th>District</th>\n",
       "      <th>Community Area</th>\n",
       "      <th>X Coordinate</th>\n",
       "      <th>Y Coordinate</th>\n",
       "      <th>Year</th>\n",
       "      <th>Latitude</th>\n",
       "      <th>Longitude</th>\n",
       "      <th>Datetime</th>\n",
       "      <th>Day of Week</th>\n",
       "      <th>Day Of Month</th>\n",
       "      <th>Month</th>\n",
       "    </tr>\n",
       "  </thead>\n",
       "  <tbody>\n",
       "    <tr>\n",
       "      <th>0</th>\n",
       "      <td>0460</td>\n",
       "      <td>SIDEWALK</td>\n",
       "      <td>False</td>\n",
       "      <td>False</td>\n",
       "      <td>6.0</td>\n",
       "      <td>69.0</td>\n",
       "      <td>1182884.0</td>\n",
       "      <td>1854628.0</td>\n",
       "      <td>2008</td>\n",
       "      <td>41.756303</td>\n",
       "      <td>-87.605332</td>\n",
       "      <td>2008-10-01 15:30:00</td>\n",
       "      <td>2</td>\n",
       "      <td>1</td>\n",
       "      <td>10</td>\n",
       "    </tr>\n",
       "    <tr>\n",
       "      <th>1</th>\n",
       "      <td>0620</td>\n",
       "      <td>RESIDENCE</td>\n",
       "      <td>False</td>\n",
       "      <td>False</td>\n",
       "      <td>9.0</td>\n",
       "      <td>60.0</td>\n",
       "      <td>1171221.0</td>\n",
       "      <td>1884004.0</td>\n",
       "      <td>2008</td>\n",
       "      <td>41.837176</td>\n",
       "      <td>-87.647215</td>\n",
       "      <td>2008-10-01 17:00:00</td>\n",
       "      <td>2</td>\n",
       "      <td>1</td>\n",
       "      <td>10</td>\n",
       "    </tr>\n",
       "    <tr>\n",
       "      <th>2</th>\n",
       "      <td>0890</td>\n",
       "      <td>OTHER</td>\n",
       "      <td>False</td>\n",
       "      <td>False</td>\n",
       "      <td>3.0</td>\n",
       "      <td>42.0</td>\n",
       "      <td>1187961.0</td>\n",
       "      <td>1863261.0</td>\n",
       "      <td>2008</td>\n",
       "      <td>41.779873</td>\n",
       "      <td>-87.586451</td>\n",
       "      <td>2008-09-29 16:15:00</td>\n",
       "      <td>0</td>\n",
       "      <td>29</td>\n",
       "      <td>9</td>\n",
       "    </tr>\n",
       "  </tbody>\n",
       "</table>\n",
       "</div>"
      ],
      "text/plain": [
       "   IUCR Location Description  Arrest  Domestic  District  Community Area  \\\n",
       "0  0460             SIDEWALK   False     False       6.0            69.0   \n",
       "1  0620            RESIDENCE   False     False       9.0            60.0   \n",
       "2  0890                OTHER   False     False       3.0            42.0   \n",
       "\n",
       "   X Coordinate  Y Coordinate  Year   Latitude  Longitude            Datetime  \\\n",
       "0     1182884.0     1854628.0  2008  41.756303 -87.605332 2008-10-01 15:30:00   \n",
       "1     1171221.0     1884004.0  2008  41.837176 -87.647215 2008-10-01 17:00:00   \n",
       "2     1187961.0     1863261.0  2008  41.779873 -87.586451 2008-09-29 16:15:00   \n",
       "\n",
       "   Day of Week  Day Of Month  Month  \n",
       "0            2             1     10  \n",
       "1            2             1     10  \n",
       "2            0            29      9  "
      ]
     },
     "execution_count": 67,
     "metadata": {},
     "output_type": "execute_result"
    }
   ],
   "source": [
    "logistic_crime = usable_crime.copy(True)\n",
    "logistic_crime.drop([\"ID\", \"Case Number\", \"Date\", \"Block\", \"Primary Type\", \"Description\", \"Beat\", \"Ward\", \"FBI Code\", \"Updated On\", \"Location\" ], inplace = True, axis=1)\n",
    "\n",
    "logistic_crime[:3]\n",
    "\n",
    "\n"
   ]
  },
  {
   "cell_type": "code",
   "execution_count": null,
   "metadata": {
    "collapsed": true
   },
   "outputs": [],
   "source": []
  }
 ],
 "metadata": {
  "kernelspec": {
   "display_name": "Python 3",
   "language": "python",
   "name": "python3"
  }
 },
 "nbformat": 4,
 "nbformat_minor": 2
}
